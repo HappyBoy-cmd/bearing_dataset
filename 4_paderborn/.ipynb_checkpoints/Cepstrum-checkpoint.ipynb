{
 "cells": [
  {
   "cell_type": "markdown",
   "metadata": {},
   "source": [
    "# Cepstral analysis on bearing data\n",
    "This notbook is inspired by the following [article](https://www.linkedin.com/pulse/cepstral-analysis-condition-monitoring-flemming-munk/) on cepstral ananlysis for detecting bearing wear\n"
   ]
  },
  {
   "cell_type": "markdown",
   "metadata": {},
   "source": [
    "## Introduction\n",
    "A definition of the Cepstral transformation is a _Power spectrum of a logarithmic Power spectrum_\n",
    "\n",
    "The Cepstral transformation will do a __de-convolution__ between two signals.<br> \n",
    "In condition monitoring, we could face a periodic vibration signal that originated from the convolution between a single impulse response of the bearing and a pulse train of impacts (e.g. every time a ball rolls over a crack in a raceway, it will ping the impulse response of the bearing).<br>\n",
    "The impulse response of the bearing does not provide us with any information about the condition of the bearing, as it will be very dependent on the measurement position.<br> \n",
    "However, the repetition rate of the impacts will tell us where (inner/outer/cage/ball) and if it is a bearing condition.<br> As the Cepstral transformation will __separate the impulse response and the impact__, it can be a tool for detecting bearing conditions. In general, it will provide __a measure of the periodicity of a signal__.<br> The procedure is illustrated in the following drawing:\n",
    "<img src=\"doc/cepstrum1.png\" width=\"800\" height=\"400\">\n"
   ]
  },
  {
   "cell_type": "markdown",
   "metadata": {},
   "source": [
    "### Analysis/Experiment planning\n",
    "Data from the _paderbon unversity_ bearing data set vill be used. Initially data with Significant inner and outer ring damages will be used to visualize cepstral ananlysis' capabilities"
   ]
  },
  {
   "cell_type": "markdown",
   "metadata": {},
   "source": [
    "### Datasets\n",
    "\n",
    "## Dataset summary \n",
    "In the tavles below a summary of the availble dataset are summarised\n",
    "\n",
    "The availible datasets contains following subsets of data, availivble for download, by the name provided in the initial column\n",
    "\n",
    "### Healthy bearings\n",
    "|Bearing Code | Run-in Period [h] | Radial Load [N] | Speed ​​[min ^ -1] |\n",
    "|--- | --- | --- | --- |\n",
    " K001 |> 50 | 1000-3000 | 1500-2000 |\n",
    " K002 | 19 | 3000 | 2900 |\n",
    " K003 | 1 | 3000 | 3000 | \n",
    " K004 | 5 | 3000 | 3000 | |\n",
    " K005 | 10 | 3000 | 3000 | |\n",
    " K006 | 16 | 3000 | 2900 | |\n",
    "\n",
    "### Bearings with outer ring damage\n",
    "|Bearing Code | Radial Load [N] | Speed ​​[min ^ -1] | Damage method | Damage extent (level) | Damage type |\n",
    "|--- | --- | --- | --- | --- | --- |\n",
    " KA01 | - | - | EDM |1||\n",
    " KA03 | - | - | Elec. Engraved|2||\n",
    " KA04 | - | - | HALT|1|Fatigue,pitting|\n",
    " KA05 | - | - | Elec. Engraved|1|\n",
    " KA06 | - | - | Elec. Engraved|2|\n",
    " KA07 | - | - | Drilling |1|\n",
    " KA08 | - | - | Drilling |2|\n",
    " KA09 | - | - | Drilling |2|\n",
    " KA15 | - |-|HALT|1|Plastic deform.:Indentations|\n",
    " KA16 | - |-|HALT|2|fatigue: pitting|\n",
    " KA22 | - |-|HALT|1|fatigue: pitting|\n",
    " KA30 | - |-|HALT|1|Plastic deform.:Indentations|\n",
    "\n",
    "### Bearings with inner ring damage\n",
    "|Bearing Code | Radial Load [N] | Speed ​​[min ^ -1] | Damage method | Damage extent (level) | Damage type |\n",
    "|--- | --- | --- | --- | --- | --- |\n",
    " KI01 | - | - |  EDM |1|\n",
    " KI03 | - | - | Elec. Engraved|1|\n",
    " KI04 | - | - | HALT |1|Fatigue,pitting|\n",
    " KI05 | - | - | Elec. Engraved|1|\n",
    " KI07 | - | - |  Elec. Engraved|2|\n",
    " KI08 | - | - |  Elec. Engraved|2|\n",
    " KI14 | - | - | HALT |1|Fatigue,pitting |\n",
    " KI16 | - | - | HALT |3|Fatigue,pitting |\n",
    " KI17 | - | - | HALT |1|Fatigue,pitting |\n",
    " KI18 | - | - | HALT |2|Fatigue,pitting |\n",
    " KI21 | - | - | HALT |1|Fatigue,pitting |\n",
    "\n",
    "### Bearings with combined inner and outer ring damage\n",
    "|Bearing Code | Radial Load [N] | Speed ​​[min ^ -1] | Damage method | Damage extent (level) |Damage type |\n",
    "|--- | --- | --- | --- | --- | --- |\n",
    " KB23 | - | - | HALT |2|fatigue: pitting|\n",
    " KB24 | - | - | HALT |3|fatigue: pitting|\n",
    " KB27 | - | - | HALT |1|Plastic deform.:Indentations|\n",
    "\n"
   ]
  },
  {
   "cell_type": "markdown",
   "metadata": {},
   "source": [
    "### Selection of data\n",
    "We will use following for test\n",
    "* KA03 for artificial outerring damage (severity 2)\n",
    "* KI07 for artificial innerrring damage (severity 2)\n",
    "* KA15 for HALT outerring damage (severity 1)\n",
    "* KI14 for HALT innerrring damage (severity 1)"
   ]
  },
  {
   "cell_type": "code",
   "execution_count": null,
   "metadata": {},
   "outputs": [],
   "source": [
    "data_artificial_outer_1 = PDB('KA03','1500','1000','700',SliceLen)\n",
    "data_artificial_inner_1 = PDB('KA03','1500','1000','700',SliceLen)\n",
    "data_halt_outer_1 = PDB('KA03','1500','1000','700',SliceLen)\n",
    "data_halt_inner_1 = PDB('KA03','1500','1000','700',SliceLen)"
   ]
  },
  {
   "cell_type": "markdown",
   "metadata": {},
   "source": [
    "### Required libraries\n",
    "A custom PyPi 'python-acoustics' library has ceptsum availible\n",
    "https://python-acoustics.github.io/python-acoustics/cepstrum.html\n",
    "https://pypi.org/project/acoustics/\n",
    "\n",
    "install with pip *pip install acoustics*\n"
   ]
  },
  {
   "cell_type": "code",
   "execution_count": 3,
   "metadata": {},
   "outputs": [
    {
     "name": "stdout",
     "output_type": "stream",
     "text": [
      "Cloning into 'python-acoustics'...\n",
      "remote: Enumerating objects: 67, done.\u001b[K\n",
      "remote: Counting objects: 100% (67/67), done.\u001b[K\n",
      "remote: Compressing objects: 100% (46/46), done.\u001b[K\n",
      "remote: Total 3313 (delta 36), reused 46 (delta 21), pack-reused 3246\u001b[K\n",
      "Receiving objects: 100% (3313/3313), 6.31 MiB | 7.32 MiB/s, done.\n",
      "Resolving deltas: 100% (2003/2003), done.\n"
     ]
    }
   ],
   "source": [
    "!git clone https://github.com/python-acoustics/python-acoustics.git"
   ]
  },
  {
   "cell_type": "code",
   "execution_count": 4,
   "metadata": {
    "collapsed": true,
    "jupyter": {
     "outputs_hidden": true
    }
   },
   "outputs": [
    {
     "name": "stdout",
     "output_type": "stream",
     "text": [
      "Processing ./python-acoustics\n",
      "Requirement already satisfied: numpy>=1.8 in /Users/opprud/opt/anaconda3/lib/python3.7/site-packages (from acoustics==0.2.4) (1.17.2)\n",
      "Requirement already satisfied: scipy>=0.16 in /Users/opprud/opt/anaconda3/lib/python3.7/site-packages (from acoustics==0.2.4) (1.3.1)\n",
      "Requirement already satisfied: matplotlib in /Users/opprud/opt/anaconda3/lib/python3.7/site-packages (from acoustics==0.2.4) (3.1.1)\n",
      "Requirement already satisfied: six>=1.4.1 in /Users/opprud/opt/anaconda3/lib/python3.7/site-packages (from acoustics==0.2.4) (1.12.0)\n",
      "Requirement already satisfied: pandas>=0.15 in /Users/opprud/opt/anaconda3/lib/python3.7/site-packages (from acoustics==0.2.4) (0.25.1)\n",
      "Requirement already satisfied: tabulate in /Users/opprud/opt/anaconda3/lib/python3.7/site-packages (from acoustics==0.2.4) (0.8.6)\n",
      "Requirement already satisfied: cycler>=0.10 in /Users/opprud/opt/anaconda3/lib/python3.7/site-packages (from matplotlib->acoustics==0.2.4) (0.10.0)\n",
      "Requirement already satisfied: kiwisolver>=1.0.1 in /Users/opprud/opt/anaconda3/lib/python3.7/site-packages (from matplotlib->acoustics==0.2.4) (1.1.0)\n",
      "Requirement already satisfied: pyparsing!=2.0.4,!=2.1.2,!=2.1.6,>=2.0.1 in /Users/opprud/opt/anaconda3/lib/python3.7/site-packages (from matplotlib->acoustics==0.2.4) (2.4.2)\n",
      "Requirement already satisfied: python-dateutil>=2.1 in /Users/opprud/opt/anaconda3/lib/python3.7/site-packages (from matplotlib->acoustics==0.2.4) (2.8.0)\n",
      "Requirement already satisfied: pytz>=2017.2 in /Users/opprud/opt/anaconda3/lib/python3.7/site-packages (from pandas>=0.15->acoustics==0.2.4) (2019.3)\n",
      "Requirement already satisfied: setuptools in /Users/opprud/opt/anaconda3/lib/python3.7/site-packages (from kiwisolver>=1.0.1->matplotlib->acoustics==0.2.4) (41.4.0)\n",
      "Building wheels for collected packages: acoustics\n",
      "  Building wheel for acoustics (setup.py) ... \u001b[?25ldone\n",
      "\u001b[?25h  Created wheel for acoustics: filename=acoustics-0.2.4-cp37-none-any.whl size=68658 sha256=6db749ccef97cad38606a267196fdcf3fb4f1eb7833e2eda3dccd80ec5d27e6e\n",
      "  Stored in directory: /Users/opprud/Library/Caches/pip/wheels/a8/76/49/0a6dc140f1945329d3c6f9f8f91670ee2f77dc9baaaaa5e2bd\n",
      "Successfully built acoustics\n",
      "Installing collected packages: acoustics\n",
      "  Found existing installation: acoustics 0.2.4\n",
      "    Uninstalling acoustics-0.2.4:\n",
      "      Successfully uninstalled acoustics-0.2.4\n",
      "Successfully installed acoustics-0.2.4\n"
     ]
    }
   ],
   "source": [
    "!pip install python-acoustics/"
   ]
  },
  {
   "cell_type": "code",
   "execution_count": 8,
   "metadata": {},
   "outputs": [],
   "source": [
    "import numpy as np\n",
    "import matplotlib.pyplot as plt\n",
    "import scipy.signal as sig\n",
    "from acoustics import cepstrum\n",
    "\n",
    "%matplotlib inline"
   ]
  },
  {
   "cell_type": "code",
   "execution_count": null,
   "metadata": {},
   "outputs": [],
   "source": []
  },
  {
   "cell_type": "code",
   "execution_count": null,
   "metadata": {},
   "outputs": [],
   "source": []
  },
  {
   "cell_type": "code",
   "execution_count": null,
   "metadata": {},
   "outputs": [],
   "source": []
  },
  {
   "cell_type": "code",
   "execution_count": null,
   "metadata": {},
   "outputs": [],
   "source": []
  },
  {
   "cell_type": "code",
   "execution_count": null,
   "metadata": {},
   "outputs": [],
   "source": []
  },
  {
   "cell_type": "code",
   "execution_count": null,
   "metadata": {},
   "outputs": [],
   "source": []
  },
  {
   "cell_type": "markdown",
   "metadata": {},
   "source": [
    "### #Try it out\n"
   ]
  },
  {
   "cell_type": "code",
   "execution_count": 7,
   "metadata": {},
   "outputs": [],
   "source": [
    "duration = 5.0\n",
    "fs = 8000.0\n",
    "samples = int(fs*duration)\n",
    "t = np.arange(samples) / fs\n",
    "\n",
    "fundamental = 100.0\n",
    "harmonics = np.arange(1, 30) * fundamental\n",
    "signal = np.sin(2.0*np.pi*harmonics[:,None]*t).sum(axis=0)\n",
    "ceps, _ = cepstrum.complex_cepstrum(signal)"
   ]
  },
  {
   "cell_type": "code",
   "execution_count": 11,
   "metadata": {},
   "outputs": [
    {
     "data": {
      "image/png": "[encoded data removed]",
      "text/plain": [
       "<Figure size 432x288 with 2 Axes>"
      ]
     },
     "metadata": {
      "needs_background": "light"
     },
     "output_type": "display_data"
    }
   ],
   "source": [
    "fig = plt.figure()\n",
    "ax0 = fig.add_subplot(211)\n",
    "ax0.plot(t, signal)\n",
    "ax0.set_xlabel('time in seconds')\n",
    "ax0.set_xlim(0.0, 0.05)\n",
    "\n",
    "ax1 = fig.add_subplot(212)\n",
    "ax1.plot(t, ceps)\n",
    "ax1.set_xlabel('quefrency in seconds')\n",
    "ax1.set_xlim(0.005, 0.015)\n",
    "ax1.set_ylim(-5., +10.)\n",
    "\n",
    "plt.show()"
   ]
  },
  {
   "cell_type": "code",
   "execution_count": null,
   "metadata": {},
   "outputs": [],
   "source": []
  }
 ],
 "metadata": {
  "kernelspec": {
   "display_name": "Python 3",
   "language": "python",
   "name": "python3"
  },
  "language_info": {
   "codemirror_mode": {
    "name": "ipython",
    "version": 3
   },
   "file_extension": ".py",
   "mimetype": "text/x-python",
   "name": "python",
   "nbconvert_exporter": "python",
   "pygments_lexer": "ipython3",
   "version": "3.7.4"
  }
 },
 "nbformat": 4,
 "nbformat_minor": 4
}
