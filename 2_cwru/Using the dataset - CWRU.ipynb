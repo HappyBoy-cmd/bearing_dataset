{
 "cells": [
  {
   "cell_type": "markdown",
   "metadata": {},
   "source": [
    "# Introduction CWRU dataset\n",
    "The dataset in this notebook is from a test conducted\n",
    "\n",
    "_additional description from readme..._\n"
   ]
  },
  {
   "cell_type": "markdown",
   "metadata": {},
   "source": [
    "## Requirements and package install\n",
    "To retrieve the data and prepare the for usage, following packages are required\n",
    "* CWRU- can be installed using pip\n",
    "\n",
    "It is recommeneded to use ```virtualenv``` and create an environment for each subproject\n",
    "\n",
    "Once you have all packages installed, use ```pip freeze > requirements.txt``` to export required packages. \n",
    "\n",
    "### Dont install using ```pip```since it will install a python 2 only compatible, below code is ported to python 3"
   ]
  },
  {
   "cell_type": "code",
   "execution_count": 1,
   "metadata": {},
   "outputs": [],
   "source": [
    "#package install / import code\n",
    "!pip install-r requirements.txt"
   ]
  },
  {
   "cell_type": "code",
   "execution_count": 1,
   "metadata": {},
   "outputs": [
    {
     "name": "stderr",
     "output_type": "stream",
     "text": [
      "/Users/opprud/anaconda3/lib/python3.6/importlib/_bootstrap.py:219: RuntimeWarning: numpy.ufunc size changed, may indicate binary incompatibility. Expected 192 from C header, got 216 from PyObject\n",
      "  return f(*args, **kwds)\n"
     ]
    }
   ],
   "source": [
    "# manual install\n",
    "#!pip install --user cwru\n",
    "import numpy as np"
   ]
  },
  {
   "cell_type": "markdown",
   "metadata": {},
   "source": [
    "## Create data folders & add to ```.gitignore```\n",
    "\n",
    "No data is to be commited to github since it's not meant for hosting data, just code'\n",
    "\n",
    "Therefore we add ```data```directory to git ignore list of files"
   ]
  },
  {
   "cell_type": "code",
   "execution_count": 2,
   "metadata": {},
   "outputs": [],
   "source": [
    "# create a data folder if such doesnt exist\n",
    "!mkdir -p data\n",
    "\n",
    "#add the data folder to gitignore, to avoid commiting the data\n",
    "gi_path = '../../../../.gitignore'\n",
    "\n",
    "# this path, strip the part we need\n",
    "dir = !pwd\n",
    "dir = str(dir[0])\n",
    "s = dir.split('/')\n",
    "#s\n",
    "# build working dir string\n",
    "wd = ('\\n' + s[-4] + '/' + s[-3]+ '/' + s[-2]+ '/' + s[-1] + '/data')\n",
    "wd\n",
    "# open and append to file\n",
    "f = open(gi_path, \"a\")\n",
    "print(wd, file=f)\n",
    "f.close()"
   ]
  },
  {
   "cell_type": "markdown",
   "metadata": {},
   "source": [
    "### CWRU package Usage\n",
    "\n",
    "    import cwru\n",
    "    data = cwru.CWRU(\"12DriveEndFault\", \"1797\", 384)\n",
    "\n",
    "Then, you can use ``data.X_train``, ``data.y_train``, ``data.X_test``, ``data.y_test``, ``data.labels``, ``data.nclasses`` to train and evaluate your data driven fault diagnostic algrithms.\n",
    "\n",
    "These ``.mat`` files required by your code will be automatically downloaded from `Case Western Reserve University Bearing Data Center`_, renamed properly with their corresponding class, stored in ``./data/CWRU`` directory to avoid downloading in future.\n",
    "\n",
    "Arguments\n",
    "---------\n",
    "\n",
    "The constructor of class ``cwru.CWRU`` has three arguments:\n",
    "\n",
    "* **exp**: experiment, supporting ``\"12DriveEndFault\", \"12FanEndFault\", \"48DriveEndFault\"``\n",
    "* **rpm**: rpm during testing\n",
    "* **length**: length of the signal slice, namely ``X_train.shape[1]``\n"
   ]
  },
  {
   "cell_type": "code",
   "execution_count": 3,
   "metadata": {},
   "outputs": [],
   "source": [
    "import os\n",
    "import glob\n",
    "import errno\n",
    "import random\n",
    "import urllib\n",
    "import numpy as np\n",
    "from scipy.io import loadmat\n",
    "\n",
    "\n",
    "class CWRU:\n",
    "\n",
    "    def __init__(self, exp, rpm, length):\n",
    "        if exp not in ('12DriveEndFault', '12FanEndFault', '48DriveEndFault'):\n",
    "            print( \"wrong experiment name: {}\".format(exp))\n",
    "            exit(1)\n",
    "        if rpm not in ('1797', '1772', '1750', '1730'):\n",
    "            print (\"wrong rpm value: {}\".format(rpm))\n",
    "            exit(1)\n",
    "\n",
    "        rdir = os.path.join('.','data/CWRU',exp,rpm)\n",
    "        #fmeta = os.path.join(os.path.dirname(__file__), './ metadata.txt')\n",
    "        fmeta = os.path.join(os.path.dirname('.'), 'metadata.txt')\n",
    "        all_lines = open(fmeta).readlines()\n",
    "        lines = []\n",
    "        for line in all_lines:\n",
    "            l = line.split()\n",
    "            if (l[0] == exp or l[0] == 'NormalBaseline') and l[1] == rpm:\n",
    "                lines.append(l)\n",
    "\n",
    "        self.length = length  # sequence length\n",
    "        self._load_and_slice_data(rdir, lines)\n",
    "        # shuffle training and test arrays\n",
    "        self._shuffle()\n",
    "        self.labels = tuple(line[2] for line in lines)\n",
    "        self.nclasses = len(self.labels)  # number of classes\n",
    "\n",
    "    def _mkdir(self, path):\n",
    "        try:\n",
    "            os.makedirs(path)\n",
    "        except OSError as exc:\n",
    "            if exc.errno == errno.EEXIST and os.path.isdir(path):\n",
    "                pass\n",
    "            else:\n",
    "                print (\"can't create directory '{}''\".format(path))\n",
    "                exit(1)\n",
    "\n",
    "    def _download(self, fpath, link):\n",
    "        print (\"Downloading to: '{}'\".format(fpath))\n",
    "####       urllib.URLopener().retrieve(link, fpath)\n",
    "        urllib.request.urlretrieve(link,fpath)\n",
    "\n",
    "\n",
    "    def _load_and_slice_data(self, rdir, infos):\n",
    "        self.X_train = np.zeros((0, self.length))\n",
    "        self.X_test = np.zeros((0, self.length))\n",
    "        self.y_train = []\n",
    "        self.y_test = []\n",
    "        for idx, info in enumerate(infos):\n",
    "            # directory of this file\n",
    "            fdir = os.path.join(rdir, info[0], info[1])\n",
    "            self._mkdir(fdir)\n",
    "            fpath = os.path.join(fdir, info[2] + '.mat')\n",
    "            if not os.path.exists(fpath):\n",
    "                self._download(fpath, info[3].rstrip('\\n'))\n",
    "\n",
    "            mat_dict = loadmat(fpath)\n",
    "            #filter() in python 3 does not return a list, \n",
    "#            key = filter(lambda x: 'DE_time' in x, mat_dict.keys())[0]\n",
    "            key = list(filter(lambda x: 'DE_time' in x, mat_dict.keys()))\n",
    "            \n",
    "#            time_series = mat_dict[key[:, 0]\n",
    "            time_series = mat_dict[key[0]][:, 0]\n",
    "\n",
    "            idx_last = -(time_series.shape[0] % self.length)\n",
    "            clips = time_series[:idx_last].reshape(-1, self.length)\n",
    "\n",
    "            n = clips.shape[0]\n",
    "            n_split = int(3 * n / 4)\n",
    " \n",
    "#            print(\"nsplit: \")\n",
    "#            print(n_split)\n",
    "\n",
    "            self.X_train = np.vstack((self.X_train, clips[:n_split]))\n",
    "            self.X_test = np.vstack((self.X_test, clips[n_split:]))\n",
    "            self.y_train += [idx] * n_split\n",
    "            self.y_test += [idx] * (clips.shape[0] - n_split)\n",
    "\n",
    "    def _shuffle(self):\n",
    "        # shuffle training samples\n",
    "#        index = range(self.X_train.shape[0])\n",
    "        index = list(range(self.X_train.shape[0]))\n",
    "        random.Random(0).shuffle(index)\n",
    "        self.X_train = self.X_train[index]\n",
    "        self.y_train = tuple(self.y_train[i] for i in index)\n",
    "\n",
    "        # shuffle test samples\n",
    "#        index = range(self.X_test.shape[0])\n",
    "        index = list(range(self.X_test.shape[0]))\n",
    "        random.Random(0).shuffle(index)\n",
    "        self.X_test = self.X_test[index]\n",
    "        self.y_test = tuple(self.y_test[i] for i in index)\n"
   ]
  },
  {
   "cell_type": "code",
   "execution_count": 3,
   "metadata": {},
   "outputs": [],
   "source": [
    "# instantiate a CWRU class $\n",
    "# and get us drive end data @1750RPM\n",
    "d1 = CWRU('12DriveEndFault','1750', 384)"
   ]
  },
  {
   "cell_type": "markdown",
   "metadata": {},
   "source": [
    "## Let's take a look at the data\n",
    "the returned object returns an object including test and train data\n",
    "\n",
    "We want data from a full rotation in the bearing"
   ]
  },
  {
   "cell_type": "code",
   "execution_count": 4,
   "metadata": {},
   "outputs": [
    {
     "data": {
      "text/plain": [
       "411"
      ]
     },
     "execution_count": 4,
     "metadata": {},
     "output_type": "execute_result"
    }
   ],
   "source": [
    "RPM = 1750\n",
    "Fs =  12000.0\n",
    "\n",
    "N_rot = round((60*Fs)/ RPM)\n",
    "N_rot"
   ]
  },
  {
   "cell_type": "code",
   "execution_count": 5,
   "metadata": {},
   "outputs": [
    {
     "name": "stdout",
     "output_type": "stream",
     "text": [
      "Downloading to: './data/CWRU/12DriveEndFault/1750/12DriveEndFault/1750/0.007-Ball.mat'\n",
      "Downloading to: './data/CWRU/12DriveEndFault/1750/12DriveEndFault/1750/0.007-InnerRace.mat'\n",
      "Downloading to: './data/CWRU/12DriveEndFault/1750/12DriveEndFault/1750/0.007-OuterRace12.mat'\n",
      "Downloading to: './data/CWRU/12DriveEndFault/1750/12DriveEndFault/1750/0.007-OuterRace3.mat'\n",
      "Downloading to: './data/CWRU/12DriveEndFault/1750/12DriveEndFault/1750/0.007-OuterRace6.mat'\n",
      "Downloading to: './data/CWRU/12DriveEndFault/1750/12DriveEndFault/1750/0.014-Ball.mat'\n",
      "Downloading to: './data/CWRU/12DriveEndFault/1750/12DriveEndFault/1750/0.014-InnerRace.mat'\n",
      "Downloading to: './data/CWRU/12DriveEndFault/1750/12DriveEndFault/1750/0.014-OuterRace6.mat'\n",
      "Downloading to: './data/CWRU/12DriveEndFault/1750/12DriveEndFault/1750/0.021-Ball.mat'\n",
      "Downloading to: './data/CWRU/12DriveEndFault/1750/12DriveEndFault/1750/0.021-InnerRace.mat'\n",
      "Downloading to: './data/CWRU/12DriveEndFault/1750/12DriveEndFault/1750/0.021-OuterRace12.mat'\n",
      "Downloading to: './data/CWRU/12DriveEndFault/1750/12DriveEndFault/1750/0.021-OuterRace3.mat'\n",
      "Downloading to: './data/CWRU/12DriveEndFault/1750/12DriveEndFault/1750/0.021-OuterRace6.mat'\n",
      "Downloading to: './data/CWRU/12DriveEndFault/1750/12DriveEndFault/1750/0.028-Ball.mat'\n",
      "Downloading to: './data/CWRU/12DriveEndFault/1750/12DriveEndFault/1750/0.028-InnerRace.mat'\n",
      "Downloading to: './data/CWRU/12DriveEndFault/1750/NormalBaseline/1750/Normal.mat'\n"
     ]
    }
   ],
   "source": [
    "# instantiate a CWRU class $\n",
    "# and get us drive end data @1750RPM\n",
    "#d1 = CWRU('12DriveEndFault','1750', 384)\n",
    "#get data from 2 revolutions\n",
    "d1 = CWRU('12DriveEndFault','1750', 2*N_rot)"
   ]
  },
  {
   "cell_type": "code",
   "execution_count": 6,
   "metadata": {},
   "outputs": [
    {
     "name": "stdout",
     "output_type": "stream",
     "text": [
      "(2101, 822)\n",
      "(703, 822)\n",
      "(2101,)\n",
      "(703,)\n"
     ]
    }
   ],
   "source": [
    "print(np.shape(d1.X_train))\n",
    "print(np.shape(d1.X_test))\n",
    "print(np.shape(d1.y_train))\n",
    "print(np.shape(d1.y_test))"
   ]
  },
  {
   "cell_type": "code",
   "execution_count": 7,
   "metadata": {},
   "outputs": [
    {
     "name": "stdout",
     "output_type": "stream",
     "text": [
      "Collecting seaborn\n",
      "  Downloading seaborn-0.10.0-py3-none-any.whl (215 kB)\n",
      "\u001b[K     |████████████████████████████████| 215 kB 2.5 MB/s \n",
      "\u001b[?25hRequirement already satisfied, skipping upgrade: matplotlib>=2.1.2 in /Users/opprud/anaconda3/lib/python3.6/site-packages (from seaborn) (3.0.2)\n",
      "Requirement already satisfied, skipping upgrade: pandas>=0.22.0 in /Users/opprud/anaconda3/lib/python3.6/site-packages (from seaborn) (0.24.1)\n",
      "Requirement already satisfied, skipping upgrade: numpy>=1.13.3 in /Users/opprud/anaconda3/lib/python3.6/site-packages (from seaborn) (1.16.0)\n",
      "Requirement already satisfied, skipping upgrade: scipy>=1.0.1 in /Users/opprud/anaconda3/lib/python3.6/site-packages (from seaborn) (1.2.1)\n",
      "Requirement already satisfied, skipping upgrade: cycler>=0.10 in /Users/opprud/anaconda3/lib/python3.6/site-packages (from matplotlib>=2.1.2->seaborn) (0.10.0)\n",
      "Requirement already satisfied, skipping upgrade: kiwisolver>=1.0.1 in /Users/opprud/anaconda3/lib/python3.6/site-packages (from matplotlib>=2.1.2->seaborn) (1.0.1)\n",
      "Requirement already satisfied, skipping upgrade: pyparsing!=2.0.4,!=2.1.2,!=2.1.6,>=2.0.1 in /Users/opprud/anaconda3/lib/python3.6/site-packages (from matplotlib>=2.1.2->seaborn) (2.3.1)\n",
      "Requirement already satisfied, skipping upgrade: python-dateutil>=2.1 in /Users/opprud/anaconda3/lib/python3.6/site-packages (from matplotlib>=2.1.2->seaborn) (2.8.0)\n",
      "Requirement already satisfied, skipping upgrade: pytz>=2011k in /Users/opprud/anaconda3/lib/python3.6/site-packages (from pandas>=0.22.0->seaborn) (2019.3)\n",
      "Requirement already satisfied, skipping upgrade: six in /Users/opprud/anaconda3/lib/python3.6/site-packages (from cycler>=0.10->matplotlib>=2.1.2->seaborn) (1.12.0)\n",
      "Requirement already satisfied, skipping upgrade: setuptools in /Users/opprud/anaconda3/lib/python3.6/site-packages (from kiwisolver>=1.0.1->matplotlib>=2.1.2->seaborn) (41.0.1)\n",
      "Installing collected packages: seaborn\n",
      "  Attempting uninstall: seaborn\n",
      "    Found existing installation: seaborn 0.9.0\n",
      "    Uninstalling seaborn-0.9.0:\n",
      "      Successfully uninstalled seaborn-0.9.0\n",
      "Successfully installed seaborn-0.10.0\n"
     ]
    }
   ],
   "source": [
    "!pip install seaborn --upgrade"
   ]
  },
  {
   "cell_type": "code",
   "execution_count": 8,
   "metadata": {},
   "outputs": [
    {
     "data": {
      "text/plain": [
       "<matplotlib.lines.Line2D at 0xb18b58400>"
      ]
     },
     "execution_count": 8,
     "metadata": {},
     "output_type": "execute_result"
    },
    {
     "data": {
      "image/png": "[encoded data removed]",
      "text/plain": [
       "<Figure size 842.4x595.44 with 1 Axes>"
      ]
     },
     "metadata": {
      "needs_background": "light"
     },
     "output_type": "display_data"
    }
   ],
   "source": [
    "import numpy as np\n",
    "import pandas as pd\n",
    "from matplotlib import rcParams\n",
    "import seaborn as sns\n",
    "sns.set(style=\"whitegrid\")\n",
    "%matplotlib inline\n",
    "# figure size in inches\n",
    "rcParams['figure.figsize'] = 11.7,8.27\n",
    "\n",
    "# data for plot\n",
    "l=len(d1.X_train[0])\n",
    "x = np.arange(0,l)\n",
    "\n",
    "y1 = d1.X_train[3]\n",
    "y2 = d1.X_train[4]\n",
    "l1 = str(d1.y_train[3])\n",
    "l2 = str(d1.y_train[4])\n",
    "\n",
    "#plot a few samples including labels\n",
    "sns.lineplot(x,y1, palette=\"tab10\", label=l1)\n",
    "p=sns.lineplot(x,y2, palette=\"tab10\", label=l2)\n",
    "p.axvline(N_rot,ls='--',label=\"1 rotation\")\n"
   ]
  },
  {
   "cell_type": "markdown",
   "metadata": {},
   "source": [
    "## Package and move to a module\n",
    "In the below example, i have overwritte the module in ```/Users/au263437/.local/lib/python3.6/site-packages/cwru/```\n",
    "with the code above\n",
    "\n",
    "It's probable **not** the correct way to do it according to the codestandard..."
   ]
  },
  {
   "cell_type": "code",
   "execution_count": 2,
   "metadata": {},
   "outputs": [],
   "source": [
    "import cwru\n",
    "d2 = cwru.CWRU('12DriveEndFault','1797', 384)"
   ]
  },
  {
   "cell_type": "code",
   "execution_count": 3,
   "metadata": {},
   "outputs": [
    {
     "name": "stderr",
     "output_type": "stream",
     "text": [
      "ERROR:root:Internal Python error in the inspect module.\n",
      "Below is the traceback from this internal error.\n",
      "\n"
     ]
    },
    {
     "name": "stdout",
     "output_type": "stream",
     "text": [
      "Traceback (most recent call last):\n",
      "  File \"/anaconda/lib/python3.6/site-packages/IPython/core/interactiveshell.py\", line 2862, in run_code\n",
      "    exec(code_obj, self.user_global_ns, self.user_ns)\n",
      "  File \"<ipython-input-3-16bf18b2ec19>\", line 1, in <module>\n",
      "    print(np.shape(d2.X_train))\n",
      "NameError: name 'np' is not defined\n",
      "\n",
      "During handling of the above exception, another exception occurred:\n",
      "\n",
      "Traceback (most recent call last):\n",
      "  File \"/anaconda/lib/python3.6/site-packages/IPython/core/interactiveshell.py\", line 1806, in showtraceback\n",
      "    stb = value._render_traceback_()\n",
      "AttributeError: 'NameError' object has no attribute '_render_traceback_'\n",
      "\n",
      "During handling of the above exception, another exception occurred:\n",
      "\n",
      "Traceback (most recent call last):\n",
      "  File \"/anaconda/lib/python3.6/site-packages/IPython/core/ultratb.py\", line 1090, in get_records\n",
      "    return _fixed_getinnerframes(etb, number_of_lines_of_context, tb_offset)\n",
      "  File \"/anaconda/lib/python3.6/site-packages/IPython/core/ultratb.py\", line 311, in wrapped\n",
      "    return f(*args, **kwargs)\n",
      "  File \"/anaconda/lib/python3.6/site-packages/IPython/core/ultratb.py\", line 345, in _fixed_getinnerframes\n",
      "    records = fix_frame_records_filenames(inspect.getinnerframes(etb, context))\n",
      "  File \"/anaconda/lib/python3.6/inspect.py\", line 1480, in getinnerframes\n",
      "    frameinfo = (tb.tb_frame,) + getframeinfo(tb, context)\n",
      "  File \"/anaconda/lib/python3.6/inspect.py\", line 1438, in getframeinfo\n",
      "    filename = getsourcefile(frame) or getfile(frame)\n",
      "  File \"/anaconda/lib/python3.6/inspect.py\", line 693, in getsourcefile\n",
      "    if getattr(getmodule(object, filename), '__loader__', None) is not None:\n",
      "  File \"/anaconda/lib/python3.6/inspect.py\", line 730, in getmodule\n",
      "    if ismodule(module) and hasattr(module, '__file__'):\n",
      "  File \"/anaconda/lib/python3.6/site-packages/tensorflow/__init__.py\", line 50, in __getattr__\n",
      "    module = self._load()\n",
      "  File \"/anaconda/lib/python3.6/site-packages/tensorflow/__init__.py\", line 44, in _load\n",
      "    module = _importlib.import_module(self.__name__)\n",
      "  File \"/anaconda/lib/python3.6/importlib/__init__.py\", line 126, in import_module\n",
      "    return _bootstrap._gcd_import(name[level:], package, level)\n",
      "  File \"<frozen importlib._bootstrap>\", line 994, in _gcd_import\n",
      "  File \"<frozen importlib._bootstrap>\", line 971, in _find_and_load\n",
      "  File \"<frozen importlib._bootstrap>\", line 941, in _find_and_load_unlocked\n",
      "  File \"<frozen importlib._bootstrap>\", line 219, in _call_with_frames_removed\n",
      "  File \"<frozen importlib._bootstrap>\", line 994, in _gcd_import\n",
      "  File \"<frozen importlib._bootstrap>\", line 971, in _find_and_load\n",
      "  File \"<frozen importlib._bootstrap>\", line 955, in _find_and_load_unlocked\n",
      "  File \"<frozen importlib._bootstrap>\", line 665, in _load_unlocked\n",
      "  File \"<frozen importlib._bootstrap_external>\", line 678, in exec_module\n",
      "  File \"<frozen importlib._bootstrap>\", line 219, in _call_with_frames_removed\n",
      "  File \"/anaconda/lib/python3.6/site-packages/tensorflow_core/__init__.py\", line 42, in <module>\n",
      "    from . _api.v2 import audio\n",
      "  File \"/anaconda/lib/python3.6/site-packages/tensorflow_core/_api/v2/audio/__init__.py\", line 10, in <module>\n",
      "    from tensorflow.python.ops.gen_audio_ops import decode_wav\n",
      "  File \"/anaconda/lib/python3.6/site-packages/tensorflow_core/python/ops/gen_audio_ops.py\", line 11, in <module>\n",
      "    from tensorflow.python.eager import context as _context\n",
      "  File \"/anaconda/lib/python3.6/site-packages/tensorflow_core/python/eager/context.py\", line 29, in <module>\n",
      "    from tensorflow.core.protobuf import config_pb2\n",
      "  File \"/anaconda/lib/python3.6/site-packages/tensorflow_core/core/protobuf/config_pb2.py\", line 16, in <module>\n",
      "    from tensorflow.core.framework import cost_graph_pb2 as tensorflow_dot_core_dot_framework_dot_cost__graph__pb2\n",
      "  File \"/anaconda/lib/python3.6/site-packages/tensorflow_core/core/framework/cost_graph_pb2.py\", line 16, in <module>\n",
      "    from tensorflow.core.framework import tensor_shape_pb2 as tensorflow_dot_core_dot_framework_dot_tensor__shape__pb2\n",
      "  File \"/anaconda/lib/python3.6/site-packages/tensorflow_core/core/framework/tensor_shape_pb2.py\", line 23, in <module>\n",
      "    serialized_pb=_b('\\n,tensorflow/core/framework/tensor_shape.proto\\x12\\ntensorflow\\\"z\\n\\x10TensorShapeProto\\x12-\\n\\x03\\x64im\\x18\\x02 \\x03(\\x0b\\x32 .tensorflow.TensorShapeProto.Dim\\x12\\x14\\n\\x0cunknown_rank\\x18\\x03 \\x01(\\x08\\x1a!\\n\\x03\\x44im\\x12\\x0c\\n\\x04size\\x18\\x01 \\x01(\\x03\\x12\\x0c\\n\\x04name\\x18\\x02 \\x01(\\tBq\\n\\x18org.tensorflow.frameworkB\\x11TensorShapeProtosP\\x01Z=github.com/tensorflow/tensorflow/tensorflow/go/core/framework\\xf8\\x01\\x01\\x62\\x06proto3')\n",
      "TypeError: __new__() got an unexpected keyword argument 'serialized_options'\n"
     ]
    },
    {
     "ename": "NameError",
     "evalue": "name 'np' is not defined",
     "output_type": "error",
     "traceback": [
      "\u001b[0;31m---------------------------------------------------------------------------\u001b[0m"
     ]
    }
   ],
   "source": [
    "print(np.shape(d2.X_train))\n",
    "print(np.shape(d2.X_test))\n",
    "print(np.shape(d2.y_train))\n",
    "print(np.shape(d2.y_test))"
   ]
  },
  {
   "cell_type": "code",
   "execution_count": 106,
   "metadata": {},
   "outputs": [
    {
     "data": {
      "text/plain": [
       "15"
      ]
     },
     "execution_count": 106,
     "metadata": {},
     "output_type": "execute_result"
    }
   ],
   "source": [
    "max(d1.y_train)"
   ]
  },
  {
   "cell_type": "code",
   "execution_count": 9,
   "metadata": {},
   "outputs": [
    {
     "name": "stdout",
     "output_type": "stream",
     "text": [
      "(2101,)\n",
      "(703,)\n"
     ]
    }
   ],
   "source": [
    "print(np.shape(d1.y_train))\n",
    "print(np.shape(d1.y_test))"
   ]
  },
  {
   "cell_type": "code",
   "execution_count": 10,
   "metadata": {},
   "outputs": [
    {
     "name": "stdout",
     "output_type": "stream",
     "text": [
      "2.0.0-beta1\n"
     ]
    }
   ],
   "source": [
    "import tensorflow as tf\n",
    "#from tensorflow import keras\n",
    "\n",
    "print(tf.__version__)"
   ]
  },
  {
   "cell_type": "code",
   "execution_count": 12,
   "metadata": {},
   "outputs": [],
   "source": [
    "from tensorflow import keras as k\n",
    "from keras import utils\n",
    "\n",
    "y_train_cat = utils.to_categorical(\n",
    "    d1.y_train,\n",
    "    #num_classes=(1+max(d1.y_train)),\n",
    "    num_classes= 16,\n",
    "    dtype='float32'\n",
    ")\n",
    "\n",
    "y_test_cat = utils.to_categorical(\n",
    "    d1.y_test,\n",
    "    #num_classes=(1+max(d1.y_train)),\n",
    "    num_classes= 16,\n",
    "    dtype='float32'\n",
    ")\n",
    "\n",
    "X_train = d1.X_train\n",
    "X_test = d1.X_test"
   ]
  },
  {
   "cell_type": "code",
   "execution_count": 16,
   "metadata": {},
   "outputs": [
    {
     "data": {
      "text/plain": [
       "15"
      ]
     },
     "execution_count": 16,
     "metadata": {},
     "output_type": "execute_result"
    }
   ],
   "source": [
    "max(d1.y_train)"
   ]
  },
  {
   "cell_type": "code",
   "execution_count": 56,
   "metadata": {},
   "outputs": [],
   "source": [
    "from tensorflow.keras.models import Sequential\n",
    "from tensorflow.keras.layers import Dense, InputLayer, Dropout, Conv1D, Flatten, Reshape, MaxPooling1D, BatchNormalization, Activation\n",
    "from tensorflow.keras.optimizers import Adam\n",
    "from tensorflow.keras import regularizers\n",
    "import os\n",
    "\n",
    "#use GPU acceleration\n",
    "os.environ[\"KERAS_BACKEND\"] = \"plaidml.keras.backend\"\n",
    "\n",
    "#### from wdcnnn\n",
    "BatchNorm = True # Whether to batch normalize\n",
    "classes = (max(d1.y_train)+1)\n",
    "\n",
    "# Instantiated sequential model\n",
    "model = Sequential()\n",
    "model.add(InputLayer(input_shape=(X_train.shape[1], ), name='x_input'))\n",
    "model.add(Reshape((int(X_train.shape[1] / 1), 1), input_shape=(X_train.shape[1], )))\n",
    "# Set up the input layer, the first layer of convolution. Because you want to specify input_shape, it is released separately.#model.add(Conv1D(filters=16, kernel_size=64, strides=16, padding='same',kernel_regularizer=l2(1e-4), input_shape=input_shape))\n",
    "model.add(Conv1D(filters=16, kernel_size=64, strides=16, padding='same',kernel_regularizer=regularizers.l2(1e-4)))\n",
    "model.add(BatchNormalization())\n",
    "model.add(Activation('relu'))\n",
    "#model.add(MaxPooling1D(pool_size=2))\n",
    "# second layer conv\n",
    "model = wdcnn(filters=32, kernerl_size=3, strides=1, conv_padding='same',pool_padding='valid',  pool_size=2, BatchNormal=BatchNorm)\n",
    "# Third layer conv\n",
    "model = wdcnn(filters=64, kernerl_size=3, strides=1, conv_padding='same',pool_padding='valid', pool_size=2, BatchNormal=BatchNorm)\n",
    "# Fourth layer conv\n",
    "model = wdcnn(filters=64, kernerl_size=3, strides=1, conv_padding='same',pool_padding='valid', pool_size=2, BatchNormal=BatchNorm)\n",
    "# Fifth layer conv\n",
    "model = wdcnn(filters=64, kernerl_size=3, strides=1, conv_padding='valid',pool_padding='valid', pool_size=2, BatchNormal=BatchNorm)\n",
    "# Flatten from convolution to full connection\n",
    "model.add(Flatten())\n",
    "\n",
    "# Flatten from convolution to full connection\n",
    "model.add(Dense(units=100, activation='relu', kernel_regularizer=regularizers.l2(1e-4)))\n",
    "# Decrease the output layer\n",
    "#model.add(Dense(units=num_classes, activation='softmax', kernel_regularizer=regularizers.l2(1e-4)))\n",
    "model.add(Dense(classes, activation='softmax', name='y_pred'))\n",
    "\n",
    "\n",
    "# this controls the learning rate\n",
    "opt = Adam(lr=0.0005, beta_1=0.9, beta_2=0.999)"
   ]
  },
  {
   "cell_type": "code",
   "execution_count": 57,
   "metadata": {},
   "outputs": [
    {
     "name": "stdout",
     "output_type": "stream",
     "text": [
      "Model: \"sequential_6\"\n",
      "_________________________________________________________________\n",
      "Layer (type)                 Output Shape              Param #   \n",
      "=================================================================\n",
      "reshape_6 (Reshape)          (None, 822, 1)            0         \n",
      "_________________________________________________________________\n",
      "conv1d_30 (Conv1D)           (None, 52, 16)            1040      \n",
      "_________________________________________________________________\n",
      "batch_normalization_30 (Batc (None, 52, 16)            64        \n",
      "_________________________________________________________________\n",
      "activation_30 (Activation)   (None, 52, 16)            0         \n",
      "_________________________________________________________________\n",
      "conv1d_31 (Conv1D)           (None, 52, 32)            1568      \n",
      "_________________________________________________________________\n",
      "batch_normalization_31 (Batc (None, 52, 32)            128       \n",
      "_________________________________________________________________\n",
      "activation_31 (Activation)   (None, 52, 32)            0         \n",
      "_________________________________________________________________\n",
      "max_pooling1d_24 (MaxPooling (None, 26, 32)            0         \n",
      "_________________________________________________________________\n",
      "conv1d_32 (Conv1D)           (None, 26, 64)            6208      \n",
      "_________________________________________________________________\n",
      "batch_normalization_32 (Batc (None, 26, 64)            256       \n",
      "_________________________________________________________________\n",
      "activation_32 (Activation)   (None, 26, 64)            0         \n",
      "_________________________________________________________________\n",
      "max_pooling1d_25 (MaxPooling (None, 13, 64)            0         \n",
      "_________________________________________________________________\n",
      "conv1d_33 (Conv1D)           (None, 13, 64)            12352     \n",
      "_________________________________________________________________\n",
      "batch_normalization_33 (Batc (None, 13, 64)            256       \n",
      "_________________________________________________________________\n",
      "activation_33 (Activation)   (None, 13, 64)            0         \n",
      "_________________________________________________________________\n",
      "max_pooling1d_26 (MaxPooling (None, 6, 64)             0         \n",
      "_________________________________________________________________\n",
      "conv1d_34 (Conv1D)           (None, 4, 64)             12352     \n",
      "_________________________________________________________________\n",
      "batch_normalization_34 (Batc (None, 4, 64)             256       \n",
      "_________________________________________________________________\n",
      "activation_34 (Activation)   (None, 4, 64)             0         \n",
      "_________________________________________________________________\n",
      "max_pooling1d_27 (MaxPooling (None, 2, 64)             0         \n",
      "_________________________________________________________________\n",
      "flatten_6 (Flatten)          (None, 128)               0         \n",
      "_________________________________________________________________\n",
      "dense_6 (Dense)              (None, 100)               12900     \n",
      "_________________________________________________________________\n",
      "y_pred (Dense)               (None, 16)                1616      \n",
      "=================================================================\n",
      "Total params: 48,996\n",
      "Trainable params: 48,516\n",
      "Non-trainable params: 480\n",
      "_________________________________________________________________\n"
     ]
    }
   ],
   "source": [
    "model.summary()"
   ]
  },
  {
   "cell_type": "code",
   "execution_count": 58,
   "metadata": {},
   "outputs": [
    {
     "name": "stdout",
     "output_type": "stream",
     "text": [
      "Train on 2101 samples, validate on 703 samples\n",
      "Epoch 1/100\n",
      "2101/2101 [==============================] - 2s 1ms/sample - loss: 1.9607 - accuracy: 0.4255 - val_loss: 2.5324 - val_accuracy: 0.2404\n",
      "Epoch 2/100\n",
      "2101/2101 [==============================] - 1s 320us/sample - loss: 1.0133 - accuracy: 0.7182 - val_loss: 2.5177 - val_accuracy: 0.2233\n",
      "Epoch 3/100\n",
      "2101/2101 [==============================] - 1s 377us/sample - loss: 0.5878 - accuracy: 0.8353 - val_loss: 2.5554 - val_accuracy: 0.2788\n",
      "Epoch 4/100\n",
      "2101/2101 [==============================] - 1s 412us/sample - loss: 0.4204 - accuracy: 0.8920 - val_loss: 2.3259 - val_accuracy: 0.3954\n",
      "Epoch 5/100\n",
      "2101/2101 [==============================] - 1s 322us/sample - loss: 0.3436 - accuracy: 0.9238 - val_loss: 1.7182 - val_accuracy: 0.4609\n",
      "Epoch 6/100\n",
      "2101/2101 [==============================] - 1s 291us/sample - loss: 0.2563 - accuracy: 0.9515 - val_loss: 1.1737 - val_accuracy: 0.5733\n",
      "Epoch 7/100\n",
      "2101/2101 [==============================] - 1s 335us/sample - loss: 0.2146 - accuracy: 0.9553 - val_loss: 0.8134 - val_accuracy: 0.7539\n",
      "Epoch 8/100\n",
      "2101/2101 [==============================] - 1s 298us/sample - loss: 0.1875 - accuracy: 0.9705 - val_loss: 0.3341 - val_accuracy: 0.9132\n",
      "Epoch 9/100\n",
      "2101/2101 [==============================] - 1s 298us/sample - loss: 0.1551 - accuracy: 0.9733 - val_loss: 0.3289 - val_accuracy: 0.9218\n",
      "Epoch 10/100\n",
      "2101/2101 [==============================] - 1s 286us/sample - loss: 0.1504 - accuracy: 0.9710 - val_loss: 0.4025 - val_accuracy: 0.9232\n",
      "Epoch 11/100\n",
      "2101/2101 [==============================] - 1s 405us/sample - loss: 0.1376 - accuracy: 0.9752 - val_loss: 0.5307 - val_accuracy: 0.7738\n",
      "Epoch 12/100\n",
      "2101/2101 [==============================] - 1s 330us/sample - loss: 0.0988 - accuracy: 0.9871 - val_loss: 0.2824 - val_accuracy: 0.9388\n",
      "Epoch 13/100\n",
      "2101/2101 [==============================] - 1s 288us/sample - loss: 0.0905 - accuracy: 0.9891 - val_loss: 0.2333 - val_accuracy: 0.9374\n",
      "Epoch 14/100\n",
      "2101/2101 [==============================] - 1s 290us/sample - loss: 0.1208 - accuracy: 0.9786 - val_loss: 0.2455 - val_accuracy: 0.9260\n",
      "Epoch 15/100\n",
      "2101/2101 [==============================] - 1s 302us/sample - loss: 0.1192 - accuracy: 0.9791 - val_loss: 0.2587 - val_accuracy: 0.9147\n",
      "Epoch 16/100\n",
      "2101/2101 [==============================] - 1s 298us/sample - loss: 0.1394 - accuracy: 0.9738 - val_loss: 0.3607 - val_accuracy: 0.9175\n",
      "Epoch 17/100\n",
      "2101/2101 [==============================] - 1s 297us/sample - loss: 0.1450 - accuracy: 0.9691 - val_loss: 0.3631 - val_accuracy: 0.9232\n",
      "Epoch 18/100\n",
      "2101/2101 [==============================] - 1s 295us/sample - loss: 0.1126 - accuracy: 0.9814 - val_loss: 0.4583 - val_accuracy: 0.8791\n",
      "Epoch 19/100\n",
      "2101/2101 [==============================] - 1s 290us/sample - loss: 0.1379 - accuracy: 0.9743 - val_loss: 0.3719 - val_accuracy: 0.9360\n",
      "Epoch 20/100\n",
      "2101/2101 [==============================] - 1s 291us/sample - loss: 0.1199 - accuracy: 0.9795 - val_loss: 0.3223 - val_accuracy: 0.9331\n",
      "Epoch 21/100\n",
      "2101/2101 [==============================] - 1s 293us/sample - loss: 0.1019 - accuracy: 0.9852 - val_loss: 0.3171 - val_accuracy: 0.9346\n",
      "Epoch 22/100\n",
      "2101/2101 [==============================] - 1s 315us/sample - loss: 0.1047 - accuracy: 0.9824 - val_loss: 0.3467 - val_accuracy: 0.9275\n",
      "Epoch 23/100\n",
      "2101/2101 [==============================] - 1s 294us/sample - loss: 0.0863 - accuracy: 0.9943 - val_loss: 0.3163 - val_accuracy: 0.9331\n",
      "Epoch 24/100\n",
      "2101/2101 [==============================] - 1s 296us/sample - loss: 0.1034 - accuracy: 0.9871 - val_loss: 0.3728 - val_accuracy: 0.9289\n",
      "Epoch 25/100\n",
      "2101/2101 [==============================] - 1s 301us/sample - loss: 0.1039 - accuracy: 0.9791 - val_loss: 0.2515 - val_accuracy: 0.9360\n",
      "Epoch 26/100\n",
      "2101/2101 [==============================] - 1s 288us/sample - loss: 0.1136 - accuracy: 0.9781 - val_loss: 0.2801 - val_accuracy: 0.9232\n",
      "Epoch 27/100\n",
      "2101/2101 [==============================] - 1s 305us/sample - loss: 0.1408 - accuracy: 0.9710 - val_loss: 0.2984 - val_accuracy: 0.9147\n",
      "Epoch 28/100\n",
      "2101/2101 [==============================] - 1s 301us/sample - loss: 0.1054 - accuracy: 0.9805 - val_loss: 0.2198 - val_accuracy: 0.9431\n",
      "Epoch 29/100\n",
      "2101/2101 [==============================] - 1s 318us/sample - loss: 0.0736 - accuracy: 0.9910 - val_loss: 0.2372 - val_accuracy: 0.9303\n",
      "Epoch 30/100\n",
      "2101/2101 [==============================] - 1s 302us/sample - loss: 0.0916 - accuracy: 0.9914 - val_loss: 0.3369 - val_accuracy: 0.9246\n",
      "Epoch 31/100\n",
      "2101/2101 [==============================] - 1s 348us/sample - loss: 0.1091 - accuracy: 0.9772 - val_loss: 0.3193 - val_accuracy: 0.9260\n",
      "Epoch 32/100\n",
      "2101/2101 [==============================] - 1s 327us/sample - loss: 0.0834 - accuracy: 0.9881 - val_loss: 0.2833 - val_accuracy: 0.9346\n",
      "Epoch 33/100\n",
      "2101/2101 [==============================] - 1s 306us/sample - loss: 0.1024 - accuracy: 0.9862 - val_loss: 0.2877 - val_accuracy: 0.9360\n",
      "Epoch 34/100\n",
      "2101/2101 [==============================] - 1s 295us/sample - loss: 0.0918 - accuracy: 0.9867 - val_loss: 0.2965 - val_accuracy: 0.9246\n",
      "Epoch 35/100\n",
      "2101/2101 [==============================] - 1s 294us/sample - loss: 0.1001 - accuracy: 0.9829 - val_loss: 0.3155 - val_accuracy: 0.9360\n",
      "Epoch 36/100\n",
      "2101/2101 [==============================] - 1s 289us/sample - loss: 0.0863 - accuracy: 0.9862 - val_loss: 0.2698 - val_accuracy: 0.9246\n",
      "Epoch 37/100\n",
      "2101/2101 [==============================] - 1s 298us/sample - loss: 0.0847 - accuracy: 0.9881 - val_loss: 0.2325 - val_accuracy: 0.9275\n",
      "Epoch 38/100\n",
      "2101/2101 [==============================] - 1s 293us/sample - loss: 0.1190 - accuracy: 0.9767 - val_loss: 0.2607 - val_accuracy: 0.9488\n",
      "Epoch 39/100\n",
      "2101/2101 [==============================] - 1s 298us/sample - loss: 0.0879 - accuracy: 0.9867 - val_loss: 0.2275 - val_accuracy: 0.9488\n",
      "Epoch 40/100\n",
      "2101/2101 [==============================] - 1s 374us/sample - loss: 0.0858 - accuracy: 0.9905 - val_loss: 0.2962 - val_accuracy: 0.9232\n",
      "Epoch 41/100\n",
      "2101/2101 [==============================] - 1s 349us/sample - loss: 0.0877 - accuracy: 0.9924 - val_loss: 0.2129 - val_accuracy: 0.9459\n",
      "Epoch 42/100\n",
      "2101/2101 [==============================] - 1s 376us/sample - loss: 0.0806 - accuracy: 0.9914 - val_loss: 0.2289 - val_accuracy: 0.9459\n",
      "Epoch 43/100\n",
      "2101/2101 [==============================] - 1s 302us/sample - loss: 0.0686 - accuracy: 0.9943 - val_loss: 0.2576 - val_accuracy: 0.9388\n",
      "Epoch 44/100\n",
      "2101/2101 [==============================] - 1s 310us/sample - loss: 0.0696 - accuracy: 0.9933 - val_loss: 0.2709 - val_accuracy: 0.9459\n",
      "Epoch 45/100\n",
      "2101/2101 [==============================] - 1s 413us/sample - loss: 0.0694 - accuracy: 0.9933 - val_loss: 0.2467 - val_accuracy: 0.9459\n",
      "Epoch 46/100\n",
      "2101/2101 [==============================] - 1s 337us/sample - loss: 0.0941 - accuracy: 0.9857 - val_loss: 0.2448 - val_accuracy: 0.9431\n",
      "Epoch 47/100\n",
      "2101/2101 [==============================] - 1s 311us/sample - loss: 0.0953 - accuracy: 0.9848 - val_loss: 0.3202 - val_accuracy: 0.9516\n",
      "Epoch 48/100\n",
      "2101/2101 [==============================] - 1s 326us/sample - loss: 0.1118 - accuracy: 0.9776 - val_loss: 0.3137 - val_accuracy: 0.9161\n",
      "Epoch 49/100\n",
      "2101/2101 [==============================] - 1s 307us/sample - loss: 0.0861 - accuracy: 0.9891 - val_loss: 0.2828 - val_accuracy: 0.9218\n",
      "Epoch 50/100\n",
      "2101/2101 [==============================] - 1s 303us/sample - loss: 0.0757 - accuracy: 0.9914 - val_loss: 0.1851 - val_accuracy: 0.9431\n",
      "Epoch 51/100\n",
      "2101/2101 [==============================] - 1s 301us/sample - loss: 0.0653 - accuracy: 0.9948 - val_loss: 0.2066 - val_accuracy: 0.9516\n",
      "Epoch 52/100\n",
      "2101/2101 [==============================] - 1s 310us/sample - loss: 0.0861 - accuracy: 0.9895 - val_loss: 0.2485 - val_accuracy: 0.9445\n",
      "Epoch 53/100\n",
      "2101/2101 [==============================] - 1s 374us/sample - loss: 0.0758 - accuracy: 0.9914 - val_loss: 0.1933 - val_accuracy: 0.9474\n",
      "Epoch 54/100\n",
      "2101/2101 [==============================] - 1s 354us/sample - loss: 0.0808 - accuracy: 0.9871 - val_loss: 0.2107 - val_accuracy: 0.9459\n",
      "Epoch 55/100\n",
      "2101/2101 [==============================] - 1s 342us/sample - loss: 0.0936 - accuracy: 0.9886 - val_loss: 0.2087 - val_accuracy: 0.9445\n",
      "Epoch 56/100\n",
      "2101/2101 [==============================] - 1s 312us/sample - loss: 0.1027 - accuracy: 0.9838 - val_loss: 0.1707 - val_accuracy: 0.9602\n",
      "Epoch 57/100\n",
      "2101/2101 [==============================] - 1s 314us/sample - loss: 0.0796 - accuracy: 0.9933 - val_loss: 0.1729 - val_accuracy: 0.9559\n",
      "Epoch 58/100\n",
      "2101/2101 [==============================] - 1s 310us/sample - loss: 0.0891 - accuracy: 0.9876 - val_loss: 0.2319 - val_accuracy: 0.9459\n",
      "Epoch 59/100\n",
      "2101/2101 [==============================] - 1s 392us/sample - loss: 0.0940 - accuracy: 0.9876 - val_loss: 0.1747 - val_accuracy: 0.9502\n",
      "Epoch 60/100\n",
      "2101/2101 [==============================] - 1s 346us/sample - loss: 0.0889 - accuracy: 0.9881 - val_loss: 0.1703 - val_accuracy: 0.9587\n",
      "Epoch 61/100\n",
      "2101/2101 [==============================] - 1s 309us/sample - loss: 0.0726 - accuracy: 0.9929 - val_loss: 0.2024 - val_accuracy: 0.9431\n",
      "Epoch 62/100\n",
      "2101/2101 [==============================] - 1s 307us/sample - loss: 0.0605 - accuracy: 0.9981 - val_loss: 0.1830 - val_accuracy: 0.9516\n",
      "Epoch 63/100\n",
      "2101/2101 [==============================] - 1s 340us/sample - loss: 0.0845 - accuracy: 0.9891 - val_loss: 0.2117 - val_accuracy: 0.9417\n",
      "Epoch 64/100\n",
      "2101/2101 [==============================] - 1s 309us/sample - loss: 0.0807 - accuracy: 0.9895 - val_loss: 0.2033 - val_accuracy: 0.9360\n",
      "Epoch 65/100\n",
      "2101/2101 [==============================] - 1s 333us/sample - loss: 0.0848 - accuracy: 0.9914 - val_loss: 0.2383 - val_accuracy: 0.9445\n",
      "Epoch 66/100\n",
      "2101/2101 [==============================] - 1s 317us/sample - loss: 0.0924 - accuracy: 0.9914 - val_loss: 0.2486 - val_accuracy: 0.9275\n",
      "Epoch 67/100\n",
      "2101/2101 [==============================] - 1s 312us/sample - loss: 0.0853 - accuracy: 0.9871 - val_loss: 0.2481 - val_accuracy: 0.9189\n",
      "Epoch 68/100\n",
      "2101/2101 [==============================] - 1s 316us/sample - loss: 0.1185 - accuracy: 0.9748 - val_loss: 0.2332 - val_accuracy: 0.9502\n",
      "Epoch 69/100\n",
      "2101/2101 [==============================] - 1s 325us/sample - loss: 0.0845 - accuracy: 0.9910 - val_loss: 0.1780 - val_accuracy: 0.9488\n",
      "Epoch 70/100\n",
      "2101/2101 [==============================] - 1s 315us/sample - loss: 0.0840 - accuracy: 0.9910 - val_loss: 0.1810 - val_accuracy: 0.9531\n",
      "Epoch 71/100\n",
      "2101/2101 [==============================] - 1s 317us/sample - loss: 0.0866 - accuracy: 0.9886 - val_loss: 0.1770 - val_accuracy: 0.9488\n",
      "Epoch 72/100\n",
      "2101/2101 [==============================] - 1s 326us/sample - loss: 0.0967 - accuracy: 0.9852 - val_loss: 0.2029 - val_accuracy: 0.9445\n",
      "Epoch 73/100\n",
      "2101/2101 [==============================] - 1s 397us/sample - loss: 0.0834 - accuracy: 0.9914 - val_loss: 0.1986 - val_accuracy: 0.9488\n",
      "Epoch 74/100\n",
      "2101/2101 [==============================] - 1s 393us/sample - loss: 0.0810 - accuracy: 0.9938 - val_loss: 0.1996 - val_accuracy: 0.9459\n",
      "Epoch 75/100\n",
      "2101/2101 [==============================] - 1s 367us/sample - loss: 0.0865 - accuracy: 0.9900 - val_loss: 0.1787 - val_accuracy: 0.9474\n",
      "Epoch 76/100\n",
      "2101/2101 [==============================] - 1s 391us/sample - loss: 0.0906 - accuracy: 0.9871 - val_loss: 0.2396 - val_accuracy: 0.9317\n",
      "Epoch 77/100\n",
      "2101/2101 [==============================] - 1s 343us/sample - loss: 0.0880 - accuracy: 0.9900 - val_loss: 0.1886 - val_accuracy: 0.9573\n",
      "Epoch 78/100\n",
      "2101/2101 [==============================] - 1s 343us/sample - loss: 0.0748 - accuracy: 0.9943 - val_loss: 0.1986 - val_accuracy: 0.9531\n",
      "Epoch 79/100\n",
      "2101/2101 [==============================] - 1s 310us/sample - loss: 0.0722 - accuracy: 0.9943 - val_loss: 0.1738 - val_accuracy: 0.9630\n",
      "Epoch 80/100\n",
      "2101/2101 [==============================] - 1s 315us/sample - loss: 0.0929 - accuracy: 0.9838 - val_loss: 0.2133 - val_accuracy: 0.9431\n",
      "Epoch 81/100\n",
      "2101/2101 [==============================] - 1s 311us/sample - loss: 0.0943 - accuracy: 0.9805 - val_loss: 0.1759 - val_accuracy: 0.9587\n",
      "Epoch 82/100\n",
      "2101/2101 [==============================] - 1s 349us/sample - loss: 0.0767 - accuracy: 0.9924 - val_loss: 0.2142 - val_accuracy: 0.9559\n",
      "Epoch 83/100\n",
      "2101/2101 [==============================] - 1s 312us/sample - loss: 0.0769 - accuracy: 0.9933 - val_loss: 0.2096 - val_accuracy: 0.9502\n",
      "Epoch 84/100\n",
      "2101/2101 [==============================] - 1s 316us/sample - loss: 0.0729 - accuracy: 0.9933 - val_loss: 0.2000 - val_accuracy: 0.9516\n",
      "Epoch 85/100\n",
      "2101/2101 [==============================] - 1s 333us/sample - loss: 0.0814 - accuracy: 0.9910 - val_loss: 0.2706 - val_accuracy: 0.9360\n",
      "Epoch 86/100\n",
      "2101/2101 [==============================] - 1s 318us/sample - loss: 0.0701 - accuracy: 0.9948 - val_loss: 0.2645 - val_accuracy: 0.9331\n",
      "Epoch 87/100\n",
      "2101/2101 [==============================] - 1s 311us/sample - loss: 0.0716 - accuracy: 0.9933 - val_loss: 0.2358 - val_accuracy: 0.9459\n",
      "Epoch 88/100\n",
      "2101/2101 [==============================] - 1s 314us/sample - loss: 0.0703 - accuracy: 0.9962 - val_loss: 0.2305 - val_accuracy: 0.9459\n",
      "Epoch 89/100\n",
      "2101/2101 [==============================] - 1s 312us/sample - loss: 0.0690 - accuracy: 0.9943 - val_loss: 0.2345 - val_accuracy: 0.9445\n",
      "Epoch 90/100\n",
      "2101/2101 [==============================] - 1s 429us/sample - loss: 0.0722 - accuracy: 0.9933 - val_loss: 0.2151 - val_accuracy: 0.9417\n",
      "Epoch 91/100\n",
      "2101/2101 [==============================] - 1s 394us/sample - loss: 0.0989 - accuracy: 0.9824 - val_loss: 0.2533 - val_accuracy: 0.9175\n",
      "Epoch 92/100\n",
      "2101/2101 [==============================] - 1s 357us/sample - loss: 0.0754 - accuracy: 0.9938 - val_loss: 0.2388 - val_accuracy: 0.9360\n",
      "Epoch 93/100\n",
      "2101/2101 [==============================] - 1s 340us/sample - loss: 0.0691 - accuracy: 0.9962 - val_loss: 0.2083 - val_accuracy: 0.9459\n",
      "Epoch 94/100\n",
      "2101/2101 [==============================] - 1s 307us/sample - loss: 0.0636 - accuracy: 0.9976 - val_loss: 0.2200 - val_accuracy: 0.9502\n",
      "Epoch 95/100\n",
      "2101/2101 [==============================] - 1s 349us/sample - loss: 0.0635 - accuracy: 0.9952 - val_loss: 0.1869 - val_accuracy: 0.9516\n",
      "Epoch 96/100\n",
      "2101/2101 [==============================] - 1s 408us/sample - loss: 0.0680 - accuracy: 0.9952 - val_loss: 0.1682 - val_accuracy: 0.9545\n",
      "Epoch 97/100\n",
      "2101/2101 [==============================] - 1s 351us/sample - loss: 0.0721 - accuracy: 0.9933 - val_loss: 0.1534 - val_accuracy: 0.9502\n",
      "Epoch 98/100\n",
      "2101/2101 [==============================] - 1s 315us/sample - loss: 0.0741 - accuracy: 0.9924 - val_loss: 0.3291 - val_accuracy: 0.9061\n",
      "Epoch 99/100\n",
      "2101/2101 [==============================] - 1s 387us/sample - loss: 0.0819 - accuracy: 0.9900 - val_loss: 0.2329 - val_accuracy: 0.9459\n",
      "Epoch 100/100\n",
      "2101/2101 [==============================] - 1s 480us/sample - loss: 0.0679 - accuracy: 0.9967 - val_loss: 0.2182 - val_accuracy: 0.9516\n",
      "75.4374771118164\n",
      "elapsed time WITH acceleration\n"
     ]
    }
   ],
   "source": [
    "from keras.callbacks import EarlyStopping\n",
    "\n",
    "from ttictoc import TicToc\n",
    "t = TicToc() ## TicToc(\"name\")\n",
    "t.tic()\n",
    "\n",
    "# simple early stopping\n",
    "#es = EarlyStopping(monitor='val_loss', mode='min', verbose=1)\n",
    "#es = EarlyStopping(monitor='val_loss', mode='min', verbose=1)\n",
    "\n",
    "start = timeit.timeit()\n",
    "\n",
    "# train the neural network\n",
    "model.compile(optimizer='Adam', loss='categorical_crossentropy',metrics=['accuracy'])\n",
    "#model.compile(loss='categorical_crossentropy', optimizer=opt, metrics=['accuracy'])\n",
    "history = model.fit(X_train, y_train_cat, batch_size=50, epochs=100, validation_data=(X_test, y_test_cat))#,callbacks=[es])\n",
    "\n",
    "t.toc()\n",
    "print(t.elapsed)\n",
    "print(\"elapsed time WITH acceleration\")\n"
   ]
  },
  {
   "cell_type": "code",
   "execution_count": 51,
   "metadata": {},
   "outputs": [
    {
     "name": "stdout",
     "output_type": "stream",
     "text": [
      "Collecting ttictoc\n",
      "  Downloading ttictoc-0.4.1-py3-none-any.whl (5.0 kB)\n",
      "Installing collected packages: ttictoc\n",
      "Successfully installed ttictoc-0.4.1\n"
     ]
    }
   ],
   "source": [
    "!pip install ttictoc"
   ]
  },
  {
   "cell_type": "markdown",
   "metadata": {},
   "source": [
    "### W / WO plaid ML acceleration\n",
    "86.68400716781616\n",
    "elapsed time NO acceleration\n",
    "\n",
    "75.4374771118164\n",
    "elapsed time WITH acceleration\n"
   ]
  },
  {
   "cell_type": "markdown",
   "metadata": {},
   "source": [
    "## Evaluate model\n",
    "predict, asess, and create a consfusion matrix"
   ]
  },
  {
   "cell_type": "code",
   "execution_count": 25,
   "metadata": {},
   "outputs": [
    {
     "name": "stdout",
     "output_type": "stream",
     "text": [
      "\n",
      "# Evaluate on test data\n",
      "703/703 [==============================] - 0s 572us/sample - loss: 0.3576 - accuracy: 0.9388\n",
      "test loss, test acc: [0.3575557671264768, 0.9388336]\n"
     ]
    }
   ],
   "source": [
    "#X_test\n",
    "# Evaluate the model on the test data using `evaluate`\n",
    "print('\\n# Evaluate on test data')\n",
    "results = model.evaluate(X_test, y_test_cat, batch_size=128)\n",
    "#results = model.evaluate(X_test, Y_test, batch_size=50)\n",
    "print('test loss, test acc:', results)"
   ]
  },
  {
   "cell_type": "code",
   "execution_count": 43,
   "metadata": {},
   "outputs": [],
   "source": [
    "import matplotlib\n",
    "from matplotlib import cm\n",
    "from matplotlib import pyplot as plt\n",
    "import itertools\n",
    "\n",
    "rcParams['figure.figsize'] = 15,15\n",
    "\n",
    "def plot_confusion_matrix(cm, classes,\n",
    "                          normalize=False,\n",
    "                          title='Confusion matrix',\n",
    "                          cmap=plt.cm.Blues):\n",
    "\n",
    "    \"\"\"\n",
    "    This function prints and plots the confusion matrix.\n",
    "    Normalization can be applied by setting `normalize=True`.\n",
    "    \"\"\"\n",
    "    if normalize:\n",
    "      cm = cm.astype('float') / cm.sum(axis=1)[:, np.newaxis]\n",
    "      cm = cm * 100\n",
    "      print(\"\\nNormalized confusion matrix\")\n",
    "    else:\n",
    "      print('\\nConfusion matrix, without normalization')\n",
    "    print(cm)\n",
    "    print ()\n",
    "\n",
    "    plt.imshow(cm, interpolation='nearest', cmap=cmap)\n",
    "    plt.title(title)\n",
    "    plt.colorbar()\n",
    "    tick_marks = np.arange(len(classes))\n",
    "    plt.xticks(tick_marks, classes, rotation=45)\n",
    "    plt.yticks(tick_marks, classes)\n",
    "\n",
    "    fmt = '.0f' if normalize else 'd'\n",
    "    #thresh = cm.max() / 2.\n",
    "    for i, j in itertools.product(range(cm.shape[0]), range(cm.shape[1])):\n",
    "      plt.text(j, i, format(cm[i, j], fmt),\n",
    "                horizontalalignment=\"center\")\n",
    "               #,color=\"white\" if cm[i, j] > thresh else \"black\")\n",
    "\n",
    "    cmap = plt.get_cmap('jet')\n",
    "\n",
    "    plt.tight_layout()\n",
    "    plt.ylabel('True label')\n",
    "    plt.xlabel('Predicted label')\n",
    "    plt.show()"
   ]
  },
  {
   "cell_type": "code",
   "execution_count": 44,
   "metadata": {},
   "outputs": [
    {
     "name": "stdout",
     "output_type": "stream",
     "text": [
      "\n",
      "Confusion matrix, without normalization\n",
      "tf.Tensor(\n",
      "[[ 37   0   0   0   0   0   0   0   0   0   0   0   0   0   0   0]\n",
      " [  0  37   0   0   0   0   0   0   0   0   0   0   0   0   0   0]\n",
      " [  4   0  33   0   0   0   0   0   0   0   0   0   0   0   0   0]\n",
      " [  0   0   0  37   0   0   0   0   0   0   0   0   0   0   0   0]\n",
      " [  0   0   0   0  37   0   0   0   0   0   0   0   0   0   0   0]\n",
      " [  0   0   0   0   0  36   0   0   1   0   0   0   0   0   0   0]\n",
      " [  0   0   0   0   0   0  37   0   0   0   0   0   0   0   0   0]\n",
      " [  0   0   0   0   0   0   0  37   0   0   0   0   0   0   0   0]\n",
      " [  1   0   0   0   0   0   0   0  36   0   0   0   0   0   0   0]\n",
      " [  0   0   0   0   0   0   0   0   0  37   0   0   0   0   0   0]\n",
      " [  0   0   1   0   0   0   0   0   0   0  33   0   4   0   0   0]\n",
      " [  0   0   0   0   0   0   0   0   0   3   0  34   0   0   0   0]\n",
      " [  0   1   3   0   2   0   0   0   0   7  16   0   8   0   0   0]\n",
      " [  0   0   0   0   0   0   0   0   0   0   0   0   0  37   0   0]\n",
      " [  0   0   0   0   0   0   0   0   0   0   0   0   0   0  37   0]\n",
      " [  0   0   0   0   0   0   0   0   0   0   0   0   0   0   0 147]], shape=(16, 16), dtype=int32)\n",
      "\n"
     ]
    },
    {
     "data": {
      "image/png": "[encoded data removed]",
      "text/plain": [
       "<Figure size 1080x1080 with 2 Axes>"
      ]
     },
     "metadata": {
      "needs_background": "light"
     },
     "output_type": "display_data"
    }
   ],
   "source": [
    "predictions_bin = model.predict_classes(X_test)\n",
    "Y_test_classes = np.argmax(y_test_cat ,axis=1)\n",
    "m=tf.math.confusion_matrix(Y_test_classes, predictions_bin)\n",
    "\n",
    "#predictions_bin\n",
    "classes_values = [\"0\",\"1\",\"2\",\"3\",\"4\",\"5\",\"6\",\"7\",\"8\",\"9\",\"10\",\"11\",\"12\",\"13\",\"14\",\"15\"]\n",
    "\n",
    "plot_confusion_matrix(m,classes_values)#, normalize=True)"
   ]
  }
 ],
 "metadata": {
  "kernelspec": {
   "display_name": "Python 3",
   "language": "python",
   "name": "python3"
  },
  "language_info": {
   "codemirror_mode": {
    "name": "ipython",
    "version": 3
   },
   "file_extension": ".py",
   "mimetype": "text/x-python",
   "name": "python",
   "nbconvert_exporter": "python",
   "pygments_lexer": "ipython3",
   "version": "3.6.3"
  }
 },
 "nbformat": 4,
 "nbformat_minor": 2
}
